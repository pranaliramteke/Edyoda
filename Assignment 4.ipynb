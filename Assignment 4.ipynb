{
 "cells": [
  {
   "cell_type": "markdown",
   "id": "ac795e63",
   "metadata": {},
   "source": [
    "# Q.1 Write a Python program to create a lambda function that adds 25 to a given number passed in as an argument.\n",
    "\n",
    " "
   ]
  },
  {
   "cell_type": "code",
   "execution_count": 46,
   "id": "8f275631",
   "metadata": {},
   "outputs": [
    {
     "data": {
      "text/plain": [
       "50"
      ]
     },
     "execution_count": 46,
     "metadata": {},
     "output_type": "execute_result"
    }
   ],
   "source": [
    "add = lambda a : a + 25\n",
    "add(25)"
   ]
  },
  {
   "cell_type": "markdown",
   "id": "91393f4e",
   "metadata": {},
   "source": [
    "# Q.2 Write a Python program to triple all numbers of a given list of integers. Use Python map.\n",
    "\n"
   ]
  },
  {
   "cell_type": "code",
   "execution_count": 47,
   "id": "27b2d373",
   "metadata": {},
   "outputs": [
    {
     "name": "stdout",
     "output_type": "stream",
     "text": [
      "\n",
      "Enter the numbers in list : 2 3 4 5 \n",
      "Given list: [2, 3, 4, 5]\n",
      "Square of each element of the list: [6, 9, 12, 15]\n"
     ]
    }
   ],
   "source": [
    "lst = list(map(int,input(\"\\nEnter the numbers in list : \").strip().split()))[:]\n",
    "print('Given list:',lst)\n",
    "print('Square of each element of the list:',list(map(lambda a : a*3 , lst)))"
   ]
  },
  {
   "cell_type": "markdown",
   "id": "057cf5b8",
   "metadata": {},
   "source": [
    "## Q.3 Write a Python program to square the elements of a list using map() function.\n",
    "\n"
   ]
  },
  {
   "cell_type": "code",
   "execution_count": 49,
   "id": "cc60aa62",
   "metadata": {},
   "outputs": [
    {
     "data": {
      "text/plain": [
       "[16, 25, 4, 81]"
      ]
     },
     "execution_count": 49,
     "metadata": {},
     "output_type": "execute_result"
    }
   ],
   "source": [
    "list(map(lambda x : x**2 , [4,5,2,9]))"
   ]
  }
 ],
 "metadata": {
  "kernelspec": {
   "display_name": "Python 3 (ipykernel)",
   "language": "python",
   "name": "python3"
  },
  "language_info": {
   "codemirror_mode": {
    "name": "ipython",
    "version": 3
   },
   "file_extension": ".py",
   "mimetype": "text/x-python",
   "name": "python",
   "nbconvert_exporter": "python",
   "pygments_lexer": "ipython3",
   "version": "3.7.4"
  }
 },
 "nbformat": 4,
 "nbformat_minor": 5
}
