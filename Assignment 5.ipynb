{
 "cells": [
  {
   "cell_type": "markdown",
   "id": "33f9f2d9",
   "metadata": {},
   "source": [
    "# Write a Python class to implement pow(x, n)"
   ]
  },
  {
   "cell_type": "code",
   "execution_count": 25,
   "id": "3763a059",
   "metadata": {},
   "outputs": [],
   "source": [
    "class calculate:\n",
    "   def pow(self, x, n):\n",
    "        # case : -(1)^n\n",
    "        if x==-1:\n",
    "            if n%2 ==0:\n",
    "                return 1\n",
    "            else:\n",
    "                return -1\n",
    "        # case : 0^1=0 or 1^1=1\n",
    "        if x==0 or x==1 or n==1:\n",
    "            return x \n",
    "        # case : x^0=0 & x^(-n)\n",
    "        if n==0:\n",
    "            return 1\n",
    "        if n<0:\n",
    "            return 1/self.pow(x,-n)\n",
    "        \n",
    "        num = self.pow(x,n//2)\n",
    "        if n%2 ==0:\n",
    "            return num*num\n",
    "        return num*num*x\n"
   ]
  },
  {
   "cell_type": "code",
   "execution_count": 28,
   "id": "be63a140",
   "metadata": {},
   "outputs": [
    {
     "name": "stdout",
     "output_type": "stream",
     "text": [
      "0.5\n"
     ]
    }
   ],
   "source": [
    "print(calculate().pow(2,-1))"
   ]
  }
 ],
 "metadata": {
  "kernelspec": {
   "display_name": "Python 3 (ipykernel)",
   "language": "python",
   "name": "python3"
  },
  "language_info": {
   "codemirror_mode": {
    "name": "ipython",
    "version": 3
   },
   "file_extension": ".py",
   "mimetype": "text/x-python",
   "name": "python",
   "nbconvert_exporter": "python",
   "pygments_lexer": "ipython3",
   "version": "3.7.4"
  }
 },
 "nbformat": 4,
 "nbformat_minor": 5
}
