{
 "cells": [
  {
   "cell_type": "markdown",
   "id": "a246b259",
   "metadata": {},
   "source": [
    "# Q.1 Write a Python program to get the Fibonacci series between 0 to 50"
   ]
  },
  {
   "cell_type": "code",
   "execution_count": 46,
   "id": "3dc5fcc2",
   "metadata": {},
   "outputs": [
    {
     "name": "stdout",
     "output_type": "stream",
     "text": [
      "Fibonacci sequence upto 50 :\n",
      "0 1 1 2 3 5 8 13 21 34 55 89 144 233 377 610 987 1597 2584 4181 6765 10946 17711 28657 46368 75025 121393 196418 317811 514229 832040 1346269 2178309 3524578 5702887 9227465 14930352 24157817 39088169 63245986 102334155 165580141 267914296 433494437 701408733 1134903170 1836311903 2971215073 4807526976 7778742049 "
     ]
    }
   ],
   "source": [
    "# Program to display the Fibonacci sequence between 0 to 50.\n",
    "\n",
    "# first two terms\n",
    "n1, n2 = 0, 1\n",
    "count = 0\n",
    "nterms = 50\n",
    "\n",
    "print(\"Fibonacci sequence upto\",nterms,\":\")\n",
    "while count < nterms:\n",
    "    print(n1,end = ' ')\n",
    "    nth = n1 + n2\n",
    "    # update values\n",
    "    n1 = n2\n",
    "    n2 = nth\n",
    "    count += 1"
   ]
  },
  {
   "cell_type": "markdown",
   "id": "e6692621",
   "metadata": {},
   "source": [
    "# Q.2 Write a Python program that accepts a word from the user and reverse it.\n"
   ]
  },
  {
   "cell_type": "code",
   "execution_count": 47,
   "id": "c2cd1120",
   "metadata": {},
   "outputs": [
    {
     "name": "stdout",
     "output_type": "stream",
     "text": [
      "Enter the word :- edyoda\n",
      "adoyde"
     ]
    }
   ],
   "source": [
    "#Python program that accepts a word from the user and reverse it.\n",
    "\n",
    "word = input('Enter the word :- ')\n",
    "for i in range(len(word)-1,-1,-1):\n",
    "    print(word[i],end = '')\n",
    "\n"
   ]
  },
  {
   "cell_type": "code",
   "execution_count": 48,
   "id": "163b77d1",
   "metadata": {},
   "outputs": [
    {
     "name": "stdout",
     "output_type": "stream",
     "text": [
      "Enter the word :- edyoda\n",
      "Reverse word is:- adoyde\n"
     ]
    }
   ],
   "source": [
    "# Alternative solution \n",
    "\n",
    "word = input('Enter the word :- ')\n",
    "print(\"Reverse word is:-\",word[::-1])"
   ]
  },
  {
   "cell_type": "markdown",
   "id": "e0b51c53",
   "metadata": {},
   "source": [
    "# Q.3 Write a Python program to count the number of even and odd numbers from a series of numbers.\n",
    "\n"
   ]
  },
  {
   "cell_type": "code",
   "execution_count": 45,
   "id": "9be7b768",
   "metadata": {},
   "outputs": [
    {
     "name": "stdout",
     "output_type": "stream",
     "text": [
      "Number of even numbers : 4\n",
      "Number of odd numbers : 5\n"
     ]
    }
   ],
   "source": [
    "#Python program to count the number of even and odd numbers from a series of numbers.\n",
    "count1 = 0\n",
    "count2 = 0\n",
    "numbers = (1, 2, 3, 4, 5, 6, 7, 8, 9) \n",
    "for i in numbers:\n",
    "    if i%2==0:\n",
    "        count1+=1\n",
    "    else:\n",
    "        count2+=1\n",
    "print('Number of even numbers :',count1)\n",
    "print('Number of odd numbers :',count2)\n"
   ]
  },
  {
   "cell_type": "code",
   "execution_count": null,
   "id": "d9cd94a6",
   "metadata": {},
   "outputs": [],
   "source": []
  }
 ],
 "metadata": {
  "kernelspec": {
   "display_name": "Python 3 (ipykernel)",
   "language": "python",
   "name": "python3"
  },
  "language_info": {
   "codemirror_mode": {
    "name": "ipython",
    "version": 3
   },
   "file_extension": ".py",
   "mimetype": "text/x-python",
   "name": "python",
   "nbconvert_exporter": "python",
   "pygments_lexer": "ipython3",
   "version": "3.7.4"
  }
 },
 "nbformat": 4,
 "nbformat_minor": 5
}
